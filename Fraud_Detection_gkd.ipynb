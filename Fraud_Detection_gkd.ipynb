{
  "cells": [
    {
      "cell_type": "code",
      "execution_count": null,
      "metadata": {
        "colab": {
          "base_uri": "https://localhost:8080/"
        },
        "id": "dppFzNJq6jZu",
        "outputId": "17a87054-6a5c-4a87-ff3b-ec303ba10257"
      },
      "outputs": [
        {
          "output_type": "stream",
          "name": "stdout",
          "text": [
            "Mounted at ./drive\n"
          ]
        }
      ],
      "source": [
        "from google.colab import drive\n",
        "drive.mount(\"./drive\", force_remount=True)\n",
        "\n",
        "path_prefix = \"./drive/My Drive\""
      ]
    },
    {
      "cell_type": "code",
      "source": [
        "import pandas as pd \n",
        "import numpy as np\n",
        "import matplotlib.pyplot as plt\n",
        "from os.path import join\n",
        "\n",
        "%matplotlib inline"
      ],
      "metadata": {
        "id": "rM-J0Xb7eYKJ"
      },
      "execution_count": null,
      "outputs": []
    },
    {
      "cell_type": "code",
      "source": [
        "filename = \"fraud_data.csv\"\n",
        "df = pd.read_csv(join(path_prefix, filename), index_col=0)\n",
        "\n",
        "df.head()\n"
      ],
      "metadata": {
        "colab": {
          "base_uri": "https://localhost:8080/",
          "height": 268
        },
        "id": "Py2jPlQ6bCTM",
        "outputId": "80ad0628-0eba-45d4-c7ce-7bd23904e5bb"
      },
      "execution_count": null,
      "outputs": [
        {
          "output_type": "execute_result",
          "data": {
            "text/html": [
              "\n",
              "  <div id=\"df-b3e2e938-8158-4c00-b704-0adf32777494\">\n",
              "    <div class=\"colab-df-container\">\n",
              "      <div>\n",
              "<style scoped>\n",
              "    .dataframe tbody tr th:only-of-type {\n",
              "        vertical-align: middle;\n",
              "    }\n",
              "\n",
              "    .dataframe tbody tr th {\n",
              "        vertical-align: top;\n",
              "    }\n",
              "\n",
              "    .dataframe thead th {\n",
              "        text-align: right;\n",
              "    }\n",
              "</style>\n",
              "<table border=\"1\" class=\"dataframe\">\n",
              "  <thead>\n",
              "    <tr style=\"text-align: right;\">\n",
              "      <th></th>\n",
              "      <th>transaction_id</th>\n",
              "      <th>day</th>\n",
              "      <th>amount</th>\n",
              "      <th>card</th>\n",
              "      <th>feature0</th>\n",
              "      <th>feature1</th>\n",
              "      <th>feature2</th>\n",
              "      <th>feature3</th>\n",
              "      <th>feature4</th>\n",
              "      <th>feature5</th>\n",
              "      <th>feature6</th>\n",
              "      <th>feature7</th>\n",
              "      <th>feature8</th>\n",
              "      <th>feature9</th>\n",
              "      <th>feature10</th>\n",
              "      <th>feature11</th>\n",
              "      <th>feature12</th>\n",
              "      <th>feature13</th>\n",
              "      <th>feature14</th>\n",
              "      <th>feature15</th>\n",
              "      <th>feature16</th>\n",
              "      <th>feature17</th>\n",
              "      <th>feature18</th>\n",
              "      <th>feature19</th>\n",
              "      <th>feature20</th>\n",
              "      <th>feature21</th>\n",
              "      <th>feature22</th>\n",
              "      <th>feature23</th>\n",
              "      <th>label</th>\n",
              "    </tr>\n",
              "  </thead>\n",
              "  <tbody>\n",
              "    <tr>\n",
              "      <th>0</th>\n",
              "      <td>861163</td>\n",
              "      <td>11</td>\n",
              "      <td>4.14</td>\n",
              "      <td>2105835</td>\n",
              "      <td>-430.764171</td>\n",
              "      <td>-320.015845</td>\n",
              "      <td>-126.521888</td>\n",
              "      <td>62.573045</td>\n",
              "      <td>101.190832</td>\n",
              "      <td>-19.647190</td>\n",
              "      <td>-13.328663</td>\n",
              "      <td>3.536347</td>\n",
              "      <td>-12.885088</td>\n",
              "      <td>1.575640</td>\n",
              "      <td>-0.879015</td>\n",
              "      <td>-1.013924</td>\n",
              "      <td>-2.195600</td>\n",
              "      <td>-0.335761</td>\n",
              "      <td>-0.566656</td>\n",
              "      <td>0.133997</td>\n",
              "      <td>-0.112530</td>\n",
              "      <td>0.133236</td>\n",
              "      <td>0.061701</td>\n",
              "      <td>-0.040570</td>\n",
              "      <td>-0.131249</td>\n",
              "      <td>-0.016216</td>\n",
              "      <td>0.001330</td>\n",
              "      <td>-0.000022</td>\n",
              "      <td>False</td>\n",
              "    </tr>\n",
              "    <tr>\n",
              "      <th>1</th>\n",
              "      <td>481857</td>\n",
              "      <td>7</td>\n",
              "      <td>102.58</td>\n",
              "      <td>3595939</td>\n",
              "      <td>-435.431389</td>\n",
              "      <td>-322.187188</td>\n",
              "      <td>-13.951082</td>\n",
              "      <td>-6.550536</td>\n",
              "      <td>-119.609051</td>\n",
              "      <td>4.658029</td>\n",
              "      <td>-3.273450</td>\n",
              "      <td>3.490142</td>\n",
              "      <td>9.482249</td>\n",
              "      <td>17.858529</td>\n",
              "      <td>-0.554083</td>\n",
              "      <td>0.126893</td>\n",
              "      <td>-0.220055</td>\n",
              "      <td>0.022814</td>\n",
              "      <td>-0.103251</td>\n",
              "      <td>-0.788776</td>\n",
              "      <td>0.332418</td>\n",
              "      <td>0.997110</td>\n",
              "      <td>-0.172463</td>\n",
              "      <td>0.032128</td>\n",
              "      <td>-0.073120</td>\n",
              "      <td>-0.000139</td>\n",
              "      <td>-0.002084</td>\n",
              "      <td>-0.000290</td>\n",
              "      <td>False</td>\n",
              "    </tr>\n",
              "    <tr>\n",
              "      <th>2</th>\n",
              "      <td>1215246</td>\n",
              "      <td>16</td>\n",
              "      <td>116.98</td>\n",
              "      <td>5953735</td>\n",
              "      <td>-434.424026</td>\n",
              "      <td>-330.553462</td>\n",
              "      <td>-18.809262</td>\n",
              "      <td>41.065894</td>\n",
              "      <td>74.053132</td>\n",
              "      <td>107.341293</td>\n",
              "      <td>-10.219304</td>\n",
              "      <td>3.182406</td>\n",
              "      <td>2.985591</td>\n",
              "      <td>-0.833696</td>\n",
              "      <td>-0.149106</td>\n",
              "      <td>0.001384</td>\n",
              "      <td>-0.605515</td>\n",
              "      <td>-0.194779</td>\n",
              "      <td>0.436881</td>\n",
              "      <td>-1.341081</td>\n",
              "      <td>0.527236</td>\n",
              "      <td>-1.071288</td>\n",
              "      <td>0.207154</td>\n",
              "      <td>0.059550</td>\n",
              "      <td>1.247738</td>\n",
              "      <td>-0.217314</td>\n",
              "      <td>0.075597</td>\n",
              "      <td>-0.000344</td>\n",
              "      <td>False</td>\n",
              "    </tr>\n",
              "    <tr>\n",
              "      <th>3</th>\n",
              "      <td>793548</td>\n",
              "      <td>11</td>\n",
              "      <td>59.90</td>\n",
              "      <td>1298385</td>\n",
              "      <td>-442.129375</td>\n",
              "      <td>632.447065</td>\n",
              "      <td>330.925334</td>\n",
              "      <td>-264.756853</td>\n",
              "      <td>-6.839567</td>\n",
              "      <td>48.566958</td>\n",
              "      <td>4.905629</td>\n",
              "      <td>-15.643984</td>\n",
              "      <td>-4.170122</td>\n",
              "      <td>-0.928957</td>\n",
              "      <td>-1.944994</td>\n",
              "      <td>1.173714</td>\n",
              "      <td>0.142302</td>\n",
              "      <td>-1.038035</td>\n",
              "      <td>1.041172</td>\n",
              "      <td>0.816854</td>\n",
              "      <td>-0.418644</td>\n",
              "      <td>0.152984</td>\n",
              "      <td>0.253243</td>\n",
              "      <td>0.006046</td>\n",
              "      <td>-0.016408</td>\n",
              "      <td>-0.004193</td>\n",
              "      <td>-0.020025</td>\n",
              "      <td>0.000004</td>\n",
              "      <td>False</td>\n",
              "    </tr>\n",
              "    <tr>\n",
              "      <th>4</th>\n",
              "      <td>4307</td>\n",
              "      <td>1</td>\n",
              "      <td>138.00</td>\n",
              "      <td>5029495</td>\n",
              "      <td>-405.270687</td>\n",
              "      <td>-303.103313</td>\n",
              "      <td>-253.927088</td>\n",
              "      <td>-38.299339</td>\n",
              "      <td>-117.636587</td>\n",
              "      <td>-8.799181</td>\n",
              "      <td>-2.525076</td>\n",
              "      <td>-16.500900</td>\n",
              "      <td>-12.269734</td>\n",
              "      <td>1.010618</td>\n",
              "      <td>0.759805</td>\n",
              "      <td>4.383355</td>\n",
              "      <td>0.442175</td>\n",
              "      <td>0.522420</td>\n",
              "      <td>-1.306245</td>\n",
              "      <td>0.954463</td>\n",
              "      <td>1.138813</td>\n",
              "      <td>-0.145031</td>\n",
              "      <td>0.701119</td>\n",
              "      <td>-0.997044</td>\n",
              "      <td>-0.077150</td>\n",
              "      <td>-0.008464</td>\n",
              "      <td>0.000779</td>\n",
              "      <td>0.000138</td>\n",
              "      <td>False</td>\n",
              "    </tr>\n",
              "  </tbody>\n",
              "</table>\n",
              "</div>\n",
              "      <button class=\"colab-df-convert\" onclick=\"convertToInteractive('df-b3e2e938-8158-4c00-b704-0adf32777494')\"\n",
              "              title=\"Convert this dataframe to an interactive table.\"\n",
              "              style=\"display:none;\">\n",
              "        \n",
              "  <svg xmlns=\"http://www.w3.org/2000/svg\" height=\"24px\"viewBox=\"0 0 24 24\"\n",
              "       width=\"24px\">\n",
              "    <path d=\"M0 0h24v24H0V0z\" fill=\"none\"/>\n",
              "    <path d=\"M18.56 5.44l.94 2.06.94-2.06 2.06-.94-2.06-.94-.94-2.06-.94 2.06-2.06.94zm-11 1L8.5 8.5l.94-2.06 2.06-.94-2.06-.94L8.5 2.5l-.94 2.06-2.06.94zm10 10l.94 2.06.94-2.06 2.06-.94-2.06-.94-.94-2.06-.94 2.06-2.06.94z\"/><path d=\"M17.41 7.96l-1.37-1.37c-.4-.4-.92-.59-1.43-.59-.52 0-1.04.2-1.43.59L10.3 9.45l-7.72 7.72c-.78.78-.78 2.05 0 2.83L4 21.41c.39.39.9.59 1.41.59.51 0 1.02-.2 1.41-.59l7.78-7.78 2.81-2.81c.8-.78.8-2.07 0-2.86zM5.41 20L4 18.59l7.72-7.72 1.47 1.35L5.41 20z\"/>\n",
              "  </svg>\n",
              "      </button>\n",
              "      \n",
              "  <style>\n",
              "    .colab-df-container {\n",
              "      display:flex;\n",
              "      flex-wrap:wrap;\n",
              "      gap: 12px;\n",
              "    }\n",
              "\n",
              "    .colab-df-convert {\n",
              "      background-color: #E8F0FE;\n",
              "      border: none;\n",
              "      border-radius: 50%;\n",
              "      cursor: pointer;\n",
              "      display: none;\n",
              "      fill: #1967D2;\n",
              "      height: 32px;\n",
              "      padding: 0 0 0 0;\n",
              "      width: 32px;\n",
              "    }\n",
              "\n",
              "    .colab-df-convert:hover {\n",
              "      background-color: #E2EBFA;\n",
              "      box-shadow: 0px 1px 2px rgba(60, 64, 67, 0.3), 0px 1px 3px 1px rgba(60, 64, 67, 0.15);\n",
              "      fill: #174EA6;\n",
              "    }\n",
              "\n",
              "    [theme=dark] .colab-df-convert {\n",
              "      background-color: #3B4455;\n",
              "      fill: #D2E3FC;\n",
              "    }\n",
              "\n",
              "    [theme=dark] .colab-df-convert:hover {\n",
              "      background-color: #434B5C;\n",
              "      box-shadow: 0px 1px 3px 1px rgba(0, 0, 0, 0.15);\n",
              "      filter: drop-shadow(0px 1px 2px rgba(0, 0, 0, 0.3));\n",
              "      fill: #FFFFFF;\n",
              "    }\n",
              "  </style>\n",
              "\n",
              "      <script>\n",
              "        const buttonEl =\n",
              "          document.querySelector('#df-b3e2e938-8158-4c00-b704-0adf32777494 button.colab-df-convert');\n",
              "        buttonEl.style.display =\n",
              "          google.colab.kernel.accessAllowed ? 'block' : 'none';\n",
              "\n",
              "        async function convertToInteractive(key) {\n",
              "          const element = document.querySelector('#df-b3e2e938-8158-4c00-b704-0adf32777494');\n",
              "          const dataTable =\n",
              "            await google.colab.kernel.invokeFunction('convertToInteractive',\n",
              "                                                     [key], {});\n",
              "          if (!dataTable) return;\n",
              "\n",
              "          const docLinkHtml = 'Like what you see? Visit the ' +\n",
              "            '<a target=\"_blank\" href=https://colab.research.google.com/notebooks/data_table.ipynb>data table notebook</a>'\n",
              "            + ' to learn more about interactive tables.';\n",
              "          element.innerHTML = '';\n",
              "          dataTable['output_type'] = 'display_data';\n",
              "          await google.colab.output.renderOutput(dataTable, element);\n",
              "          const docLink = document.createElement('div');\n",
              "          docLink.innerHTML = docLinkHtml;\n",
              "          element.appendChild(docLink);\n",
              "        }\n",
              "      </script>\n",
              "    </div>\n",
              "  </div>\n",
              "  "
            ],
            "text/plain": [
              "   transaction_id  day  amount     card  ...  feature21  feature22  feature23  label\n",
              "0          861163   11    4.14  2105835  ...  -0.016216   0.001330  -0.000022  False\n",
              "1          481857    7  102.58  3595939  ...  -0.000139  -0.002084  -0.000290  False\n",
              "2         1215246   16  116.98  5953735  ...  -0.217314   0.075597  -0.000344  False\n",
              "3          793548   11   59.90  1298385  ...  -0.004193  -0.020025   0.000004  False\n",
              "4            4307    1  138.00  5029495  ...  -0.008464   0.000779   0.000138  False\n",
              "\n",
              "[5 rows x 29 columns]"
            ]
          },
          "metadata": {},
          "execution_count": 122
        }
      ]
    },
    {
      "cell_type": "markdown",
      "metadata": {
        "id": "fkA4-U9tAnwo"
      },
      "source": [
        "## Ratio Between Fraudalent and Non-Fraudalent Transactions \n"
      ]
    },
    {
      "cell_type": "code",
      "source": [
        "from numpy.core.fromnumeric import size\n",
        "a=0\n",
        "b=0\n",
        "c=0\n",
        "for i in range (len(df['label'])):\n",
        "  c=c+1\n",
        "  if df['label'][i]==False:\n",
        "    a=a+1\n",
        "  elif df['label'][i]==True:\n",
        "    b=b+1\n",
        "\n",
        "f=a*100/c\n",
        "g=b*100/c\n",
        "y = np.array([f,g])\n",
        "mylabels = [\"Non-Fraudalent\", \"Fraudalent\"]\n",
        "\n",
        "plt.pie(y, labels = mylabels,autopct='%1.1f%%',colors=['green','red'],startangle=45)\n",
        "plt.title('Ratio of Transaction')\n",
        "\n",
        "plt.show() \n"
      ],
      "metadata": {
        "id": "NeYHE4yUrRZg",
        "colab": {
          "base_uri": "https://localhost:8080/",
          "height": 264
        },
        "outputId": "3393ac74-8cd2-446e-bf27-d7c0f4ce0fa7"
      },
      "execution_count": null,
      "outputs": [
        {
          "output_type": "display_data",
          "data": {
            "image/png": "[encoded data removed]",
            "text/plain": [
              "<Figure size 432x288 with 1 Axes>"
            ]
          },
          "metadata": {}
        }
      ]
    },
    {
      "cell_type": "markdown",
      "source": [
        "## Split the data into train (70%), validation (15%) and test (15%). "
      ],
      "metadata": {
        "id": "rPES8QOFrWhI"
      }
    },
    {
      "cell_type": "code",
      "source": [
        "from sklearn.model_selection import train_test_split\n",
        "\n",
        "df_oyna=df\n",
        "X = df_oyna.drop(['transaction_id','card','label'], axis=1)\n",
        "Y=df_oyna['label']\n",
        "X_train, X_remaining,Y_train, Y_remaining= train_test_split(X,Y, test_size=0.30, random_state=0,stratify=df_oyna['label'])\n",
        "X_test, X_val,Y_test, Y_val = train_test_split(X_remaining,Y_remaining, test_size=0.50, random_state=0)"
      ],
      "metadata": {
        "id": "7t2mnZefnVqI"
      },
      "execution_count": null,
      "outputs": []
    },
    {
      "cell_type": "markdown",
      "source": [
        "## Train a Default Random Forest Model (Baseline)"
      ],
      "metadata": {
        "id": "WcPsvfHQtzpQ"
      }
    },
    {
      "cell_type": "code",
      "source": [
        "from sklearn.ensemble import RandomForestClassifier\n",
        "\n",
        "from sklearn.utils import class_weight\n",
        "model = RandomForestClassifier(class_weight={0: g/10, 1: f/10})\n",
        "    \n"
      ],
      "metadata": {
        "id": "7YYwPhEfstLo"
      },
      "execution_count": null,
      "outputs": []
    },
    {
      "cell_type": "markdown",
      "source": [
        "## Evaluate the Baseline Model "
      ],
      "metadata": {
        "id": "xu7a92zfxTm-"
      }
    },
    {
      "cell_type": "code",
      "source": [
        "from sklearn.metrics import plot_confusion_matrix\n",
        "from sklearn.metrics import confusion_matrix\n",
        "import seaborn as sn\n",
        "model.fit(X_train, Y_train)\n",
        "x_pred=model.predict(X_val)\n",
        "data = {'y_Actual':    Y_val,\n",
        "        'y_Predicted': x_pred\n",
        "        }\n",
        "\n",
        "df = pd.DataFrame(data, columns=['y_Actual','y_Predicted'])\n",
        "confusion_matrix = pd.crosstab(df['y_Actual'], df['y_Predicted'], rownames=['Actual label'], colnames=['Predicted label'])\n",
        "\n",
        "sn.heatmap(confusion_matrix, annot=True, fmt=\"d\")\n",
        "plt.title('Confusion Matrix Evaluated on Validation Data')\n",
        "\n",
        "plt.show()\n",
        "\n"
      ],
      "metadata": {
        "id": "gw1lW0bwx1ql",
        "colab": {
          "base_uri": "https://localhost:8080/",
          "height": 295
        },
        "outputId": "c104bde0-7456-4419-9644-a3f62663b0b1"
      },
      "execution_count": null,
      "outputs": [
        {
          "output_type": "display_data",
          "data": {
            "image/png": "[encoded data removed]",
            "text/plain": [
              "<Figure size 432x288 with 2 Axes>"
            ]
          },
          "metadata": {
            "needs_background": "light"
          }
        }
      ]
    },
    {
      "cell_type": "markdown",
      "source": [
        "### Plot ROC Curve Evaluated on Validation Data "
      ],
      "metadata": {
        "id": "Vd29RT0C03j0"
      }
    },
    {
      "cell_type": "code",
      "source": [
        "from sklearn.metrics import RocCurveDisplay\n",
        "\n",
        "\n",
        "import sklearn.metrics as metrics\n",
        "probs = model.predict_proba(X_val)\n",
        "preds = probs[:,1]\n",
        "fpr, tpr, threshold = metrics.roc_curve(Y_val, preds)\n",
        "roc_auc = metrics.auc(fpr, tpr)\n",
        "\n",
        "# method I: plt\n",
        "import matplotlib.pyplot as plt\n",
        "plt.title('Receiver Operating Characteristic')\n",
        "plt.plot(fpr, tpr, 'b', label = 'AUC = %0.2f' % roc_auc)\n",
        "plt.legend(loc = 'lower right')\n",
        "plt.plot([0, 1], [0, 1],'r--')\n",
        "plt.xlim([0, 1])\n",
        "plt.ylim([0, 1])\n",
        "plt.ylabel('True Positive Rate')\n",
        "plt.xlabel('False Positive Rate')\n",
        "plt.show()\n",
        "\n"
      ],
      "metadata": {
        "id": "mNUadbU01qsu",
        "colab": {
          "base_uri": "https://localhost:8080/",
          "height": 295
        },
        "outputId": "d821c6a1-ef77-4a02-da4c-b60f5df73670"
      },
      "execution_count": null,
      "outputs": [
        {
          "output_type": "display_data",
          "data": {
            "image/png": "[encoded data removed]",
            "text/plain": [
              "<Figure size 432x288 with 1 Axes>"
            ]
          },
          "metadata": {
            "needs_background": "light"
          }
        }
      ]
    },
    {
      "cell_type": "markdown",
      "source": [
        "### Plot Precision-Recall Curve "
      ],
      "metadata": {
        "id": "65Js011cIcLn"
      }
    },
    {
      "cell_type": "code",
      "source": [
        "from sklearn.metrics import PrecisionRecallDisplay\n",
        "from sklearn.metrics import precision_recall_curve\n",
        "from sklearn.metrics import plot_precision_recall_curve\n",
        "\n",
        "disp = plot_precision_recall_curve( model,X_val, Y_val)\n",
        "disp.ax_.set_title('2-class Precision-Recall curve')"
      ],
      "metadata": {
        "id": "ZmMdpHp9Idrs",
        "colab": {
          "base_uri": "https://localhost:8080/",
          "height": 366
        },
        "outputId": "72d5dcea-bfe4-4428-e280-d3a1db3ede2f"
      },
      "execution_count": null,
      "outputs": [
        {
          "output_type": "stream",
          "name": "stderr",
          "text": [
            "/usr/local/lib/python3.7/dist-packages/sklearn/utils/deprecation.py:87: FutureWarning: Function plot_precision_recall_curve is deprecated; Function `plot_precision_recall_curve` is deprecated in 1.0 and will be removed in 1.2. Use one of the class methods: PrecisionRecallDisplay.from_predictions or PrecisionRecallDisplay.from_estimator.\n",
            "  warnings.warn(msg, category=FutureWarning)\n"
          ]
        },
        {
          "output_type": "execute_result",
          "data": {
            "text/plain": [
              "Text(0.5, 1.0, '2-class Precision-Recall curve')"
            ]
          },
          "metadata": {},
          "execution_count": 128
        },
        {
          "output_type": "display_data",
          "data": {
            "image/png": "[encoded data removed]",
            "text/plain": [
              "<Figure size 432x288 with 1 Axes>"
            ]
          },
          "metadata": {
            "needs_background": "light"
          }
        }
      ]
    },
    {
      "cell_type": "markdown",
      "source": [
        "## Hyperparameter Tuning "
      ],
      "metadata": {
        "id": "bQXHT3_24PXi"
      }
    },
    {
      "cell_type": "code",
      "source": [
        "from sklearn.metrics import auc, precision_recall_curve\n",
        "n_estimator1= [50 ,100,200,300,500,750]\n",
        "max_features= [3,5,7,10,15,20,25]\n",
        "aucscore=[]\n",
        "aucscore2=[]\n",
        "for h in range (0,6):\n",
        "  model2 = RandomForestClassifier(n_estimators=n_estimator1[h])\n",
        "  model2.fit(X_train, Y_train)\n",
        "  y_score = model2.predict_proba(X_val)[:, 1]\n",
        "  precision, recall, thresholds = precision_recall_curve(Y_val, y_score)\n",
        "  auc_precision_recall = auc(recall, precision)\n",
        "  aucscore.append(auc_precision_recall)\n",
        "\n",
        "\n",
        "plt.show\n",
        "highs=0\n",
        "\n",
        "for t in range (len(aucscore)):\n",
        "  if aucscore[t]>highs:\n",
        "    highs=aucscore[t]\n",
        "    yer=t\n",
        "\n",
        "for g in range (0,7):\n",
        "  model2_1 = RandomForestClassifier(max_features=max_features[g],n_estimators=n_estimator1[yer])\n",
        "  model2_1.fit(X_train, Y_train)\n",
        "  y_score = model2_1.predict_proba(X_val)[:, 1]\n",
        "  precision, recall, thresholds = precision_recall_curve(Y_val, y_score)\n",
        "  auc_precision_recall = auc(recall, precision)\n",
        "  aucscore2.append(auc_precision_recall)\n",
        "\n",
        "\n",
        "plt.figure(1, figsize=(8, 10))\n",
        "\n",
        "plt.subplot(211)\n",
        "plt.plot(n_estimator1, aucscore, color='blue', linestyle='--', label='data',marker='.')\n",
        "plt.title(\"AUPRC scores vs n_estimators\")\n",
        "plt.xlabel(\"n_estimators\")\n",
        "plt.ylabel(\"AUPRC\")\n",
        "\n",
        "plt.ylim(0.8, 1)\n",
        "plt.grid(axis='both')\n",
        "plt.subplot(212)\n",
        "plt.plot(max_features, aucscore2, color='blue', linestyle='--',marker='.', label='data')\n",
        "\n",
        "plt.ylim(0.8, 1)\n",
        "plt.title(\"AUPRC scores vs max_features\")\n",
        "plt.xlabel(\"max_features\")\n",
        "plt.ylabel(\"AUPRC\")\n",
        "plt.grid(axis='both')\n",
        "plt.show()\n",
        "  "
      ],
      "metadata": {
        "id": "Szueb-V0Kill",
        "colab": {
          "base_uri": "https://localhost:8080/",
          "height": 622
        },
        "outputId": "a8d13544-ceeb-4ec2-d540-2bc0490e742c"
      },
      "execution_count": null,
      "outputs": [
        {
          "output_type": "display_data",
          "data": {
            "image/png": "[encoded data removed]",
            "text/plain": [
              "<Figure size 576x720 with 2 Axes>"
            ]
          },
          "metadata": {
            "needs_background": "light"
          }
        }
      ]
    },
    {
      "cell_type": "markdown",
      "source": [
        "## Retrain the Model with the Best Parameters"
      ],
      "metadata": {
        "id": "-cgkN-b4EE2A"
      }
    },
    {
      "cell_type": "code",
      "source": [
        "highs2=0\n",
        "for e in range (len(aucscore2)):\n",
        "  if aucscore2[e]>highs2:\n",
        "    highs2=aucscore2[e]\n",
        "    yer2=e\n",
        "model3 = RandomForestClassifier(max_features=max_features[yer2],n_estimators=n_estimator1[yer])\n",
        "model3.fit(X_test, Y_test)\n",
        "y_combined_predic = model3.predict(X_remaining)"
      ],
      "metadata": {
        "id": "RHH2A_8cFCyG"
      },
      "execution_count": null,
      "outputs": []
    },
    {
      "cell_type": "markdown",
      "source": [
        "## Evaluate the Final Model using Test data"
      ],
      "metadata": {
        "id": "3UhKFefzFMpS"
      }
    },
    {
      "cell_type": "markdown",
      "source": [
        "### Plot Confusion Matrix (10 Points)"
      ],
      "metadata": {
        "id": "xVs2BiRQFh8C"
      }
    },
    {
      "cell_type": "code",
      "source": [
        "\n",
        "y_combined_predic = model3.predict(X_remaining)\n",
        "\n",
        "\n",
        "data = {'y_Actual':    Y_remaining,\n",
        "        'y_Predicted': y_combined_predic\n",
        "        }\n",
        "\n",
        "df = pd.DataFrame(data, columns=['y_Actual','y_Predicted'])\n",
        "confusion_matrix = pd.crosstab(df['y_Actual'], df['y_Predicted'], rownames=['Actual label'], colnames=['Predicted label'])\n",
        "\n",
        "sn.heatmap(confusion_matrix, annot=True,fmt=\"d\")\n",
        "plt.title('Confusion Matrix Evaluated on Test Data')\n",
        "\n",
        "plt.show()\n"
      ],
      "metadata": {
        "id": "hef5AiK1Gcyo",
        "colab": {
          "base_uri": "https://localhost:8080/",
          "height": 295
        },
        "outputId": "4662a06b-3353-4fe4-8cfc-1dab602c5afd"
      },
      "execution_count": null,
      "outputs": [
        {
          "output_type": "display_data",
          "data": {
            "image/png": "[encoded data removed]",
            "text/plain": [
              "<Figure size 432x288 with 2 Axes>"
            ]
          },
          "metadata": {
            "needs_background": "light"
          }
        }
      ]
    },
    {
      "cell_type": "markdown",
      "source": [
        "### Plot ROC Curve Evaluated on Test Data "
      ],
      "metadata": {
        "id": "AXLb2RwsGSOv"
      }
    },
    {
      "cell_type": "code",
      "source": [
        "probs = model3.predict_proba(X_remaining)\n",
        "preds = probs[:,1]\n",
        "fpr, tpr, threshold = metrics.roc_curve(Y_remaining, preds)\n",
        "roc_auc = metrics.auc(fpr, tpr)\n",
        "\n",
        "\n",
        "\n",
        "plt.title('Receiver Operating Characteristic')\n",
        "plt.plot(fpr, tpr, 'b', label = 'AUC = %0.2f' % roc_auc)\n",
        "plt.legend(loc = 'lower right')\n",
        "plt.plot([0, 1], [0, 1],'r--')\n",
        "plt.xlim([0, 1])\n",
        "plt.ylim([0, 1])\n",
        "plt.ylabel('True Positive Rate')\n",
        "plt.xlabel('False Positive Rate')\n",
        "plt.show()\n",
        "\n"
      ],
      "metadata": {
        "id": "_wCbbLGAFML4",
        "colab": {
          "base_uri": "https://localhost:8080/",
          "height": 295
        },
        "outputId": "d32aeb76-3eb6-4227-fc5b-38ae77695628"
      },
      "execution_count": null,
      "outputs": [
        {
          "output_type": "display_data",
          "data": {
            "image/png": "[encoded data removed]",
            "text/plain": [
              "<Figure size 432x288 with 1 Axes>"
            ]
          },
          "metadata": {
            "needs_background": "light"
          }
        }
      ]
    },
    {
      "cell_type": "markdown",
      "source": [
        "### Plot Precision-Recall Curve "
      ],
      "metadata": {
        "id": "hwYpB01WXP0Z"
      }
    },
    {
      "cell_type": "code",
      "source": [
        "disp = plot_precision_recall_curve( model3,X_remaining, Y_remaining)\n",
        "disp.ax_.set_title('2-class Precision-Recall curve')"
      ],
      "metadata": {
        "id": "Oc-V_1hcXPeA",
        "colab": {
          "base_uri": "https://localhost:8080/",
          "height": 366
        },
        "outputId": "3f42af1f-397b-4f85-96ed-68157331d645"
      },
      "execution_count": null,
      "outputs": [
        {
          "output_type": "stream",
          "name": "stderr",
          "text": [
            "/usr/local/lib/python3.7/dist-packages/sklearn/utils/deprecation.py:87: FutureWarning: Function plot_precision_recall_curve is deprecated; Function `plot_precision_recall_curve` is deprecated in 1.0 and will be removed in 1.2. Use one of the class methods: PrecisionRecallDisplay.from_predictions or PrecisionRecallDisplay.from_estimator.\n",
            "  warnings.warn(msg, category=FutureWarning)\n"
          ]
        },
        {
          "output_type": "execute_result",
          "data": {
            "text/plain": [
              "Text(0.5, 1.0, '2-class Precision-Recall curve')"
            ]
          },
          "metadata": {},
          "execution_count": 133
        },
        {
          "output_type": "display_data",
          "data": {
            "image/png": "[encoded data removed]",
            "text/plain": [
              "<Figure size 432x288 with 1 Axes>"
            ]
          },
          "metadata": {
            "needs_background": "light"
          }
        }
      ]
    },
    {
      "cell_type": "code",
      "source": [
        ""
      ],
      "metadata": {
        "id": "lE-E3DxtZ3Jt"
      },
      "execution_count": null,
      "outputs": []
    }
  ],
  "metadata": {
    "colab": {
      "name": "Fraud Detection_gkd",
      "provenance": [],
      "collapsed_sections": []
    },
    "kernelspec": {
      "display_name": "Python 3",
      "language": "python",
      "name": "python3"
    },
    "language_info": {
      "codemirror_mode": {
        "name": "ipython",
        "version": 3
      },
      "file_extension": ".py",
      "mimetype": "text/x-python",
      "name": "python",
      "nbconvert_exporter": "python",
      "pygments_lexer": "ipython3",
      "version": "3.8.5"
    }
  },
  "nbformat": 4,
  "nbformat_minor": 0
}